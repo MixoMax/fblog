{
 "cells": [
  {
   "cell_type": "code",
   "execution_count": 4,
   "metadata": {},
   "outputs": [],
   "source": [
    "with open(\"./tmp_in.md\", \"r\") as f:\n",
    "    lines = f.readlines()\n",
    "\n",
    "new_lines = []\n",
    "\n",
    "remove_next_line = False\n",
    "for line in lines:\n",
    "    if remove_next_line:\n",
    "        remove_next_line = False\n",
    "        continue\n",
    "\n",
    "    if line.startswith(\"CHAPTER\"):\n",
    "        line = \"# \" + line\n",
    "        remove_next_line = True\n",
    "    \n",
    "    new_lines.append(line)\n",
    "\n",
    "with open(\"./tmp_out.md\", \"w\") as f:\n",
    "    f.writelines(new_lines)"
   ]
  }
 ],
 "metadata": {
  "kernelspec": {
   "display_name": "webdev",
   "language": "python",
   "name": "python3"
  },
  "language_info": {
   "codemirror_mode": {
    "name": "ipython",
    "version": 3
   },
   "file_extension": ".py",
   "mimetype": "text/x-python",
   "name": "python",
   "nbconvert_exporter": "python",
   "pygments_lexer": "ipython3",
   "version": "3.11.7"
  }
 },
 "nbformat": 4,
 "nbformat_minor": 2
}
